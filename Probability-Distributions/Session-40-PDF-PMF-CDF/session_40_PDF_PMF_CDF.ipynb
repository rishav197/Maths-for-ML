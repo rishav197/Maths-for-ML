{
  "nbformat": 4,
  "nbformat_minor": 0,
  "metadata": {
    "colab": {
      "provenance": [],
      "authorship_tag": "ABX9TyMdHD69SCbYR/fYTU43Rc/v"
    },
    "kernelspec": {
      "name": "python3",
      "display_name": "Python 3"
    },
    "language_info": {
      "name": "python"
    }
  },
  "cells": [
    {
      "cell_type": "code",
      "source": [
        "import pandas as pd\n",
        "import random"
      ],
      "metadata": {
        "id": "Atk_5aFxs9MQ"
      },
      "execution_count": null,
      "outputs": []
    },
    {
      "cell_type": "code",
      "source": [
        "L = []\n",
        "\n",
        "for i in range(10000):\n",
        "  a = random.randint(1, 6)\n",
        "  b = random.randint(1, 6)\n",
        "\n",
        "  L.append(a+b)\n"
      ],
      "metadata": {
        "id": "4ndfHSAHs9Gx"
      },
      "execution_count": null,
      "outputs": []
    },
    {
      "cell_type": "code",
      "source": [
        "print(len(L))\n",
        "L[:5]"
      ],
      "metadata": {
        "colab": {
          "base_uri": "https://localhost:8080/"
        },
        "id": "ylkWE_nOs9D4",
        "outputId": "cf02dc1f-2ea3-4afd-ceca-e34d99629244"
      },
      "execution_count": null,
      "outputs": [
        {
          "output_type": "stream",
          "name": "stdout",
          "text": [
            "10000\n"
          ]
        },
        {
          "output_type": "execute_result",
          "data": {
            "text/plain": [
              "[6, 6, 11, 9, 8]"
            ]
          },
          "metadata": {},
          "execution_count": 80
        }
      ]
    },
    {
      "cell_type": "code",
      "execution_count": null,
      "metadata": {
        "colab": {
          "base_uri": "https://localhost:8080/",
          "height": 429
        },
        "id": "lNNEuC_ks4mk",
        "outputId": "7cfe7014-8e46-4b60-c06f-2a3d11520ffe"
      },
      "outputs": [
        {
          "output_type": "execute_result",
          "data": {
            "text/plain": [
              "2     0.0282\n",
              "3     0.0544\n",
              "4     0.0843\n",
              "5     0.1104\n",
              "6     0.1361\n",
              "7     0.1689\n",
              "8     0.1464\n",
              "9     0.1043\n",
              "10    0.0847\n",
              "11    0.0545\n",
              "12    0.0278\n",
              "Name: count, dtype: float64"
            ],
            "text/html": [
              "<div>\n",
              "<style scoped>\n",
              "    .dataframe tbody tr th:only-of-type {\n",
              "        vertical-align: middle;\n",
              "    }\n",
              "\n",
              "    .dataframe tbody tr th {\n",
              "        vertical-align: top;\n",
              "    }\n",
              "\n",
              "    .dataframe thead th {\n",
              "        text-align: right;\n",
              "    }\n",
              "</style>\n",
              "<table border=\"1\" class=\"dataframe\">\n",
              "  <thead>\n",
              "    <tr style=\"text-align: right;\">\n",
              "      <th></th>\n",
              "      <th>count</th>\n",
              "    </tr>\n",
              "  </thead>\n",
              "  <tbody>\n",
              "    <tr>\n",
              "      <th>2</th>\n",
              "      <td>0.0282</td>\n",
              "    </tr>\n",
              "    <tr>\n",
              "      <th>3</th>\n",
              "      <td>0.0544</td>\n",
              "    </tr>\n",
              "    <tr>\n",
              "      <th>4</th>\n",
              "      <td>0.0843</td>\n",
              "    </tr>\n",
              "    <tr>\n",
              "      <th>5</th>\n",
              "      <td>0.1104</td>\n",
              "    </tr>\n",
              "    <tr>\n",
              "      <th>6</th>\n",
              "      <td>0.1361</td>\n",
              "    </tr>\n",
              "    <tr>\n",
              "      <th>7</th>\n",
              "      <td>0.1689</td>\n",
              "    </tr>\n",
              "    <tr>\n",
              "      <th>8</th>\n",
              "      <td>0.1464</td>\n",
              "    </tr>\n",
              "    <tr>\n",
              "      <th>9</th>\n",
              "      <td>0.1043</td>\n",
              "    </tr>\n",
              "    <tr>\n",
              "      <th>10</th>\n",
              "      <td>0.0847</td>\n",
              "    </tr>\n",
              "    <tr>\n",
              "      <th>11</th>\n",
              "      <td>0.0545</td>\n",
              "    </tr>\n",
              "    <tr>\n",
              "      <th>12</th>\n",
              "      <td>0.0278</td>\n",
              "    </tr>\n",
              "  </tbody>\n",
              "</table>\n",
              "</div><br><label><b>dtype:</b> float64</label>"
            ]
          },
          "metadata": {},
          "execution_count": 81
        }
      ],
      "source": [
        "s = (pd.Series(L).value_counts()/pd.Series(L).value_counts().sum()).sort_index()\n",
        "s"
      ]
    },
    {
      "cell_type": "code",
      "source": [
        "import numpy as np\n",
        "np.cumsum(s)"
      ],
      "metadata": {
        "colab": {
          "base_uri": "https://localhost:8080/",
          "height": 429
        },
        "id": "iDUUzEavtl_e",
        "outputId": "c1bd4add-6654-46a3-f5cd-0e7a1228bd01"
      },
      "execution_count": null,
      "outputs": [
        {
          "output_type": "execute_result",
          "data": {
            "text/plain": [
              "2     0.0282\n",
              "3     0.0826\n",
              "4     0.1669\n",
              "5     0.2773\n",
              "6     0.4134\n",
              "7     0.5823\n",
              "8     0.7287\n",
              "9     0.8330\n",
              "10    0.9177\n",
              "11    0.9722\n",
              "12    1.0000\n",
              "Name: count, dtype: float64"
            ],
            "text/html": [
              "<div>\n",
              "<style scoped>\n",
              "    .dataframe tbody tr th:only-of-type {\n",
              "        vertical-align: middle;\n",
              "    }\n",
              "\n",
              "    .dataframe tbody tr th {\n",
              "        vertical-align: top;\n",
              "    }\n",
              "\n",
              "    .dataframe thead th {\n",
              "        text-align: right;\n",
              "    }\n",
              "</style>\n",
              "<table border=\"1\" class=\"dataframe\">\n",
              "  <thead>\n",
              "    <tr style=\"text-align: right;\">\n",
              "      <th></th>\n",
              "      <th>count</th>\n",
              "    </tr>\n",
              "  </thead>\n",
              "  <tbody>\n",
              "    <tr>\n",
              "      <th>2</th>\n",
              "      <td>0.0282</td>\n",
              "    </tr>\n",
              "    <tr>\n",
              "      <th>3</th>\n",
              "      <td>0.0826</td>\n",
              "    </tr>\n",
              "    <tr>\n",
              "      <th>4</th>\n",
              "      <td>0.1669</td>\n",
              "    </tr>\n",
              "    <tr>\n",
              "      <th>5</th>\n",
              "      <td>0.2773</td>\n",
              "    </tr>\n",
              "    <tr>\n",
              "      <th>6</th>\n",
              "      <td>0.4134</td>\n",
              "    </tr>\n",
              "    <tr>\n",
              "      <th>7</th>\n",
              "      <td>0.5823</td>\n",
              "    </tr>\n",
              "    <tr>\n",
              "      <th>8</th>\n",
              "      <td>0.7287</td>\n",
              "    </tr>\n",
              "    <tr>\n",
              "      <th>9</th>\n",
              "      <td>0.8330</td>\n",
              "    </tr>\n",
              "    <tr>\n",
              "      <th>10</th>\n",
              "      <td>0.9177</td>\n",
              "    </tr>\n",
              "    <tr>\n",
              "      <th>11</th>\n",
              "      <td>0.9722</td>\n",
              "    </tr>\n",
              "    <tr>\n",
              "      <th>12</th>\n",
              "      <td>1.0000</td>\n",
              "    </tr>\n",
              "  </tbody>\n",
              "</table>\n",
              "</div><br><label><b>dtype:</b> float64</label>"
            ]
          },
          "metadata": {},
          "execution_count": 82
        }
      ]
    },
    {
      "cell_type": "markdown",
      "source": [
        "### Bar plot"
      ],
      "metadata": {
        "id": "42iY4uv9uWCh"
      }
    },
    {
      "cell_type": "code",
      "source": [
        "s.plot(kind='bar')"
      ],
      "metadata": {
        "colab": {
          "base_uri": "https://localhost:8080/",
          "height": 452
        },
        "id": "3TMi-Ah9tl8h",
        "outputId": "3d4b30f6-3722-4b10-afd2-2d7eecdd3f79"
      },
      "execution_count": null,
      "outputs": [
        {
          "output_type": "execute_result",
          "data": {
            "text/plain": [
              "<Axes: >"
            ]
          },
          "metadata": {},
          "execution_count": 83
        },
        {
          "output_type": "display_data",
          "data": {
            "text/plain": [
              "<Figure size 640x480 with 1 Axes>"
            ],
            "image/png": "[encoded data removed]"
          },
          "metadata": {}
        }
      ]
    },
    {
      "cell_type": "markdown",
      "source": [
        "CDF for PMF"
      ],
      "metadata": {
        "id": "7_v2wLJpusRa"
      }
    },
    {
      "cell_type": "code",
      "source": [
        "np.cumsum(s).plot(kind='bar')"
      ],
      "metadata": {
        "colab": {
          "base_uri": "https://localhost:8080/",
          "height": 452
        },
        "id": "w5uqFf3rtl5V",
        "outputId": "4510771c-dacb-43ec-b4b5-9b546f472538"
      },
      "execution_count": null,
      "outputs": [
        {
          "output_type": "execute_result",
          "data": {
            "text/plain": [
              "<Axes: >"
            ]
          },
          "metadata": {},
          "execution_count": 84
        },
        {
          "output_type": "display_data",
          "data": {
            "text/plain": [
              "<Figure size 640x480 with 1 Axes>"
            ],
            "image/png": "[encoded data removed]"
          },
          "metadata": {}
        }
      ]
    },
    {
      "cell_type": "markdown",
      "source": [
        "### Parametric Density Estimation"
      ],
      "metadata": {
        "id": "QneXMRcttl2t"
      }
    },
    {
      "cell_type": "code",
      "source": [
        "import matplotlib.pyplot as plt\n",
        "import numpy as np\n",
        "from numpy.random import normal\n",
        "\n",
        "sample = normal(loc=50, scale=5,size=1000)"
      ],
      "metadata": {
        "id": "cMKXeJRhu3dD"
      },
      "execution_count": null,
      "outputs": []
    },
    {
      "cell_type": "code",
      "source": [
        "sample.mean()"
      ],
      "metadata": {
        "colab": {
          "base_uri": "https://localhost:8080/"
        },
        "id": "m5JnW5sBu3Zu",
        "outputId": "799e1db8-a6d5-4eb5-bb9b-135801f57bc5"
      },
      "execution_count": null,
      "outputs": [
        {
          "output_type": "execute_result",
          "data": {
            "text/plain": [
              "np.float64(49.75398729738858)"
            ]
          },
          "metadata": {},
          "execution_count": 86
        }
      ]
    },
    {
      "cell_type": "code",
      "source": [
        "# plot histogram to understand the distribution of data\n",
        "plt.hist(sample,bins=10)"
      ],
      "metadata": {
        "colab": {
          "base_uri": "https://localhost:8080/",
          "height": 519
        },
        "id": "-83XoAdku3XF",
        "outputId": "c826f54f-1b47-42f2-89c6-f804012202da"
      },
      "execution_count": null,
      "outputs": [
        {
          "output_type": "execute_result",
          "data": {
            "text/plain": [
              "(array([ 22.,  54., 129., 217., 232., 219.,  91.,  28.,   7.,   1.]),\n",
              " array([35.68883399, 38.96842411, 42.24801423, 45.52760436, 48.80719448,\n",
              "        52.0867846 , 55.36637472, 58.64596484, 61.92555497, 65.20514509,\n",
              "        68.48473521]),\n",
              " <BarContainer object of 10 artists>)"
            ]
          },
          "metadata": {},
          "execution_count": 87
        },
        {
          "output_type": "display_data",
          "data": {
            "text/plain": [
              "<Figure size 640x480 with 1 Axes>"
            ],
            "image/png": "[encoded data removed]"
          },
          "metadata": {}
        }
      ]
    },
    {
      "cell_type": "code",
      "source": [
        "# calculate sample mean and sample std dev\n",
        "sample_mean = sample.mean()\n",
        "sample_std = sample.std()\n",
        "\n",
        "print(\"sample mean :\", sample_mean)\n",
        "print(\"sample std :\", sample_std)"
      ],
      "metadata": {
        "colab": {
          "base_uri": "https://localhost:8080/"
        },
        "id": "SXAnQ9QhurUj",
        "outputId": "99713493-5479-4c94-cb16-952b99cad321"
      },
      "execution_count": null,
      "outputs": [
        {
          "output_type": "stream",
          "name": "stdout",
          "text": [
            "sample mean : 49.75398729738858\n",
            "sample std : 5.111035468274596\n"
          ]
        }
      ]
    },
    {
      "cell_type": "code",
      "source": [
        "# fit the distribution with the above parameters\n",
        "\n",
        "from scipy.stats import norm\n",
        "dist = norm(sample_mean, sample_std)"
      ],
      "metadata": {
        "id": "DsD4Php_vKMK"
      },
      "execution_count": null,
      "outputs": []
    },
    {
      "cell_type": "code",
      "source": [
        "values = np.linspace(sample.min(),sample.max(),100)\n",
        "values"
      ],
      "metadata": {
        "colab": {
          "base_uri": "https://localhost:8080/"
        },
        "id": "5KPm8Fn0vKIm",
        "outputId": "f3a12e1e-dc44-4865-c86a-1da26ccb268d"
      },
      "execution_count": null,
      "outputs": [
        {
          "output_type": "execute_result",
          "data": {
            "text/plain": [
              "array([35.68883399, 36.02010572, 36.35137745, 36.68264918, 37.01392091,\n",
              "       37.34519264, 37.67646437, 38.0077361 , 38.33900783, 38.67027956,\n",
              "       39.00155128, 39.33282301, 39.66409474, 39.99536647, 40.3266382 ,\n",
              "       40.65790993, 40.98918166, 41.32045339, 41.65172512, 41.98299685,\n",
              "       42.31426858, 42.64554031, 42.97681204, 43.30808377, 43.6393555 ,\n",
              "       43.97062723, 44.30189896, 44.63317069, 44.96444242, 45.29571415,\n",
              "       45.62698587, 45.9582576 , 46.28952933, 46.62080106, 46.95207279,\n",
              "       47.28334452, 47.61461625, 47.94588798, 48.27715971, 48.60843144,\n",
              "       48.93970317, 49.2709749 , 49.60224663, 49.93351836, 50.26479009,\n",
              "       50.59606182, 50.92733355, 51.25860528, 51.58987701, 51.92114873,\n",
              "       52.25242046, 52.58369219, 52.91496392, 53.24623565, 53.57750738,\n",
              "       53.90877911, 54.24005084, 54.57132257, 54.9025943 , 55.23386603,\n",
              "       55.56513776, 55.89640949, 56.22768122, 56.55895295, 56.89022468,\n",
              "       57.22149641, 57.55276814, 57.88403987, 58.21531159, 58.54658332,\n",
              "       58.87785505, 59.20912678, 59.54039851, 59.87167024, 60.20294197,\n",
              "       60.5342137 , 60.86548543, 61.19675716, 61.52802889, 61.85930062,\n",
              "       62.19057235, 62.52184408, 62.85311581, 63.18438754, 63.51565927,\n",
              "       63.846931  , 64.17820273, 64.50947445, 64.84074618, 65.17201791,\n",
              "       65.50328964, 65.83456137, 66.1658331 , 66.49710483, 66.82837656,\n",
              "       67.15964829, 67.49092002, 67.82219175, 68.15346348, 68.48473521])"
            ]
          },
          "metadata": {},
          "execution_count": 90
        }
      ]
    },
    {
      "cell_type": "code",
      "source": [
        "sample.max()"
      ],
      "metadata": {
        "colab": {
          "base_uri": "https://localhost:8080/"
        },
        "id": "LK6r6lcWvKFo",
        "outputId": "7d51015b-3d4b-47e1-b91c-05468ce9782e"
      },
      "execution_count": null,
      "outputs": [
        {
          "output_type": "execute_result",
          "data": {
            "text/plain": [
              "np.float64(68.48473520870836)"
            ]
          },
          "metadata": {},
          "execution_count": 91
        }
      ]
    },
    {
      "cell_type": "code",
      "source": [
        "prob_densities = [dist.pdf(value) for value in values]"
      ],
      "metadata": {
        "id": "o4XTeW79vnHI"
      },
      "execution_count": null,
      "outputs": []
    },
    {
      "cell_type": "code",
      "source": [
        "# plot the histogram and pdf\n",
        "plt.hist(sample,bins=10,density=True)\n",
        "plt.plot(values,prob_densities)"
      ],
      "metadata": {
        "colab": {
          "base_uri": "https://localhost:8080/",
          "height": 448
        },
        "id": "fgNHVQBpvnEI",
        "outputId": "16bbe730-b462-4b13-e868-1b4693d78cd7"
      },
      "execution_count": null,
      "outputs": [
        {
          "output_type": "execute_result",
          "data": {
            "text/plain": [
              "[<matplotlib.lines.Line2D at 0x7e0b7a494250>]"
            ]
          },
          "metadata": {},
          "execution_count": 93
        },
        {
          "output_type": "display_data",
          "data": {
            "text/plain": [
              "<Figure size 640x480 with 1 Axes>"
            ],
            "image/png": "[encoded data removed]"
          },
          "metadata": {}
        }
      ]
    },
    {
      "cell_type": "code",
      "source": [
        "import seaborn as sns\n",
        "sns.distplot(sample, kde=True)\n",
        "plt.xlabel(\"Value\")\n",
        "plt.ylabel(\"Density\")"
      ],
      "metadata": {
        "colab": {
          "base_uri": "https://localhost:8080/",
          "height": 664
        },
        "id": "eiD0DBQGvnBe",
        "outputId": "509a5899-3a40-4b02-ac29-740c285fd361"
      },
      "execution_count": null,
      "outputs": [
        {
          "output_type": "stream",
          "name": "stderr",
          "text": [
            "/tmp/ipython-input-94-3735408510.py:2: UserWarning: \n",
            "\n",
            "`distplot` is a deprecated function and will be removed in seaborn v0.14.0.\n",
            "\n",
            "Please adapt your code to use either `displot` (a figure-level function with\n",
            "similar flexibility) or `histplot` (an axes-level function for histograms).\n",
            "\n",
            "For a guide to updating your code to use the new functions, please see\n",
            "https://gist.github.com/mwaskom/de44147ed2974457ad6372750bbe5751\n",
            "\n",
            "  sns.distplot(sample, kde=True)\n"
          ]
        },
        {
          "output_type": "execute_result",
          "data": {
            "text/plain": [
              "Text(0, 0.5, 'Density')"
            ]
          },
          "metadata": {},
          "execution_count": 94
        },
        {
          "output_type": "display_data",
          "data": {
            "text/plain": [
              "<Figure size 640x480 with 1 Axes>"
            ],
            "image/png": "[encoded data removed]"
          },
          "metadata": {}
        }
      ]
    },
    {
      "cell_type": "markdown",
      "source": [
        "### KDE"
      ],
      "metadata": {
        "id": "zp1AxMvmx8CF"
      }
    },
    {
      "cell_type": "code",
      "source": [
        "# generate a sample\n",
        "sample1 = normal(loc=20, scale=5, size=300)\n",
        "sample2 = normal(loc=40, scale=5, size=700)\n",
        "sample = np.hstack((sample1, sample2))"
      ],
      "metadata": {
        "id": "lveR5p70wlxT"
      },
      "execution_count": null,
      "outputs": []
    },
    {
      "cell_type": "code",
      "source": [
        "print(sample.size)\n",
        "sample"
      ],
      "metadata": {
        "id": "dEzPm6Gowlt2",
        "colab": {
          "base_uri": "https://localhost:8080/"
        },
        "outputId": "8f64060b-b172-4e10-816b-50b002067ffb"
      },
      "execution_count": null,
      "outputs": [
        {
          "output_type": "stream",
          "name": "stdout",
          "text": [
            "1000\n"
          ]
        },
        {
          "output_type": "execute_result",
          "data": {
            "text/plain": [
              "array([27.39771702, 23.54263431, 19.84405668, 20.4340442 , 23.51301645,\n",
              "       16.66552603, 29.66569071, 20.07696028, 24.43426463, 35.63347263,\n",
              "       26.66277882, 18.02907346, 18.78038348, 23.2924436 , 23.07223578,\n",
              "       14.45674157, 20.35528975, 19.76070562, 10.80795841, 22.92501586,\n",
              "       21.49929371, 29.51348929, 15.26688362, 20.07944229, 18.07666237,\n",
              "       24.34219643, 12.94910032, 32.32805196, 20.24442166, 22.37411636,\n",
              "       16.72973621, 13.82772221, 21.00301263, 16.98433137, 13.13124468,\n",
              "       20.17283843, 15.95515613, 12.96447725, 21.01784249, 21.36302553,\n",
              "       23.70989074, 17.78185563, 15.80536174, 22.66969363, 14.19611394,\n",
              "       22.92668   , 12.93042619,  6.34838752, 24.8295763 , 18.63368883,\n",
              "       22.92163606, 21.49923065, 12.51145318, 20.96029633, 25.63215467,\n",
              "       22.8018275 , 25.57313043, 24.46716934, 19.67109262, 21.83808558,\n",
              "       23.16017822, 26.68406244, 19.96823955, 19.1747155 , 26.64125126,\n",
              "       13.7253879 , 22.19892171, 16.95135726, 17.929662  , 14.93612469,\n",
              "       15.12295176, 23.43796036, 15.68042517, 14.34490078, 27.67144987,\n",
              "       29.0277176 , 19.57983897, 13.02990237, 24.18214177, 15.15762337,\n",
              "       20.29027098, 18.0712563 , 29.22284119, 25.94815371, 18.83856352,\n",
              "       22.42215188, 25.10356706, 12.05402585, 19.01330499, 16.55292788,\n",
              "       26.13858888, 14.26477237, 30.02389311, 20.20340266, 14.34446128,\n",
              "       19.40489681, 16.19256516, 16.18385647, 18.83288861, 17.04504959,\n",
              "       18.39454023, 16.3275027 , 25.94641886, 25.45976464, 12.14778392,\n",
              "       20.38116868, 20.78866439, 21.04865866, 20.70027033, 20.82868138,\n",
              "       18.78380467, 21.82541525, 16.67742182, 18.93810028, 16.01845879,\n",
              "       18.02875223, 19.81343145, 15.80950031, 21.90263375, 19.06181689,\n",
              "        7.652623  , 18.70240256, 12.80054697, 13.62878918, 27.28834537,\n",
              "       11.75003695, 22.73705145, 24.10953994, 25.97093567, 15.12049854,\n",
              "       26.25887923, 12.40423588, 28.55416184, 35.64317722, 24.18790439,\n",
              "       27.86871511, 20.40026708, 26.1246258 , 11.33271507, 13.3287899 ,\n",
              "       14.1806926 , 23.89850843, 17.85755777, 20.87049774, 19.56826362,\n",
              "       25.77660892, 17.98812018, 22.40490105,  7.32525177, 25.79656719,\n",
              "       16.36516787, 25.92881571, 18.66155748, 20.91368284, 15.86007181,\n",
              "       20.48452674, 22.73486141, 26.64007712, 23.93212617, 24.00673844,\n",
              "       12.15663394, 13.15918045, 19.74053069, 23.1805151 , 23.24640348,\n",
              "       27.24760451, 18.94632781, 18.00954469, 23.8991554 , 21.84688404,\n",
              "       19.24873611, 11.52400341, 23.28315962, 27.62899438, 21.62916611,\n",
              "       27.33829255, 22.08127296, 22.88159227, 15.92776728, 23.32057238,\n",
              "       27.16247788, 28.50676362, 17.34645176, 28.02586198, 19.3903379 ,\n",
              "       18.3702086 , 14.31256906, 10.28167992, 23.10503807, 10.43455791,\n",
              "       14.85751445, 30.23528055, 21.99497719, 17.85331278, 13.96278359,\n",
              "       19.07249564, 19.90492499, 10.14560782, 19.99666392, 14.41960984,\n",
              "       17.01547706, 26.22286499, 14.90124934, 18.66703326, 17.28759014,\n",
              "       12.736408  , 11.66828657, 21.60955178, 26.00056057, 12.3276231 ,\n",
              "       16.89867357, 24.75992913, 26.0015477 , 22.67969168, 23.68142551,\n",
              "       22.60396849, 21.8544483 , 25.17736049, 24.31236757, 23.01142011,\n",
              "       21.33950888, 17.8526816 , 23.02591535, 20.54186613, 28.29474988,\n",
              "       21.66661292, 22.55929258, 22.73856616, 14.90127429, 14.53481074,\n",
              "       15.26869677, 17.80261487, 14.88894563, 10.67830985, 22.04298718,\n",
              "       14.38381405, 19.28477754, 16.33975879, 16.28899422, 22.9644986 ,\n",
              "       15.23714151, 20.65651778, 26.48911695, 16.70140752, 25.66938283,\n",
              "       13.81505032, 22.36164116, 20.19323304, 19.93371339, 20.53756451,\n",
              "       24.25308864, 13.95747313, 24.55754726, 19.48691168, 18.45617174,\n",
              "       15.20539271, 25.53454998, 22.59915171, 17.51943097, 23.44867847,\n",
              "       26.32103098, 16.7682517 , 14.48552224, 19.14817054, 18.18423295,\n",
              "       21.29697476, 23.98780157, 12.99914995, 21.30365205,  8.65681002,\n",
              "       14.72469729, 25.95592609, 13.16737056, 22.34635011, 26.44892931,\n",
              "       14.43060646, 23.76200124, 21.18261323, 19.29235835, 12.81714882,\n",
              "       20.5195007 , 22.36870144, 25.69530927, 14.29608407, 27.39172322,\n",
              "       14.4007806 , 23.79337185, 19.01855511, 23.352564  , 21.32772645,\n",
              "       21.25247419, 11.34498996, 24.72802288, 16.51703143,  8.8607281 ,\n",
              "       13.17123483, 16.05154924, 25.75936243, 24.0321914 , 13.14565966,\n",
              "       40.83674301, 31.31344966, 37.97408705, 37.33245071, 48.33503263,\n",
              "       43.42824913, 33.32211189, 45.10732691, 35.4458353 , 42.69227831,\n",
              "       39.96297684, 36.71787189, 36.57376651, 33.91681249, 38.06535534,\n",
              "       34.26020404, 35.31064883, 38.06753919, 34.21802356, 32.50103196,\n",
              "       37.3991279 , 45.10899846, 40.82621612, 43.70401848, 34.77138719,\n",
              "       31.17210685, 43.46679205, 38.73667898, 37.28663146, 34.03722864,\n",
              "       39.34457213, 39.13341495, 35.42657448, 46.0996265 , 41.17941336,\n",
              "       38.30389442, 45.47733944, 35.66011285, 41.99270033, 37.65221416,\n",
              "       35.88387412, 33.53921896, 35.98067389, 32.94519407, 52.39706198,\n",
              "       44.05937461, 44.8763919 , 46.16174215, 40.31953842, 35.08700168,\n",
              "       37.87081033, 40.26240892, 35.61619561, 39.23596224, 46.23194139,\n",
              "       43.85577268, 39.04006078, 38.87344808, 47.4951671 , 36.94007095,\n",
              "       45.37244582, 45.94876591, 41.74295304, 33.03360997, 47.54627833,\n",
              "       37.7524419 , 36.61790092, 38.88081311, 35.75917236, 42.08119031,\n",
              "       47.4968501 , 39.36492932, 37.42962547, 42.19743372, 42.04818991,\n",
              "       40.88281636, 31.169406  , 28.41340069, 37.65599898, 44.02802888,\n",
              "       46.50230643, 42.82951829, 26.39811374, 36.67135659, 42.83350572,\n",
              "       40.18844684, 38.01380703, 34.33271326, 30.64919002, 42.47093146,\n",
              "       40.88518211, 36.79161805, 32.16590677, 46.4087478 , 35.89821133,\n",
              "       44.76626877, 41.34686871, 37.10041579, 34.8375351 , 41.65935375,\n",
              "       38.11560607, 37.48576223, 37.1118529 , 39.31541448, 48.09088991,\n",
              "       40.89775435, 36.88871101, 36.0544899 , 34.93862164, 40.79780381,\n",
              "       46.14853511, 40.00658576, 38.55297187, 32.65335822, 38.93271818,\n",
              "       37.86795456, 41.85553797, 35.7767526 , 45.95415565, 41.2951762 ,\n",
              "       36.64813747, 34.88908988, 39.38380453, 31.64320629, 41.34742809,\n",
              "       46.29916987, 50.84720526, 38.30353485, 39.91845507, 48.38688698,\n",
              "       35.84606789, 42.19137905, 29.20613916, 39.33020531, 49.161641  ,\n",
              "       47.5973022 , 45.74764843, 39.14428822, 38.94902102, 42.45190021,\n",
              "       49.14025556, 39.07188295, 34.64411554, 39.63180263, 32.08758133,\n",
              "       40.2689387 , 37.53977706, 34.62700449, 32.93347128, 43.80026632,\n",
              "       40.98236067, 45.42870973, 37.94873506, 38.9621385 , 44.87526436,\n",
              "       47.12601561, 44.22574745, 47.01569468, 42.5691432 , 43.1289258 ,\n",
              "       38.94385555, 36.0318288 , 43.86284656, 35.69313714, 36.41156127,\n",
              "       40.56679813, 30.81684232, 45.37848891, 39.68006192, 45.0658875 ,\n",
              "       34.92169254, 51.46273099, 43.04880687, 41.32097325, 27.4965198 ,\n",
              "       37.65922097, 35.09771487, 41.90607574, 33.7877569 , 41.10077212,\n",
              "       46.10928507, 42.36415951, 48.17082202, 32.77389382, 43.10285705,\n",
              "       41.7254499 , 41.52123804, 27.48996387, 42.31560561, 38.76279039,\n",
              "       45.15741462, 40.05201156, 44.86472188, 40.72649072, 46.09790074,\n",
              "       47.56812989, 43.96414507, 31.14259499, 40.31258384, 42.79279124,\n",
              "       35.40870517, 34.8587393 , 36.12468152, 35.19689562, 31.72810089,\n",
              "       44.15916579, 38.9996461 , 45.38520665, 47.89030014, 35.73507141,\n",
              "       41.81527135, 34.33553702, 36.33216407, 32.29266521, 38.99546747,\n",
              "       37.77052283, 46.91549126, 33.75967558, 37.15956561, 37.55856647,\n",
              "       45.12620735, 48.31787177, 50.44452382, 44.71014022, 35.15323097,\n",
              "       45.94663992, 52.61020299, 33.20583849, 44.62617798, 37.49866402,\n",
              "       38.20561808, 48.04758608, 44.59336415, 41.9891949 , 36.75352215,\n",
              "       40.13033022, 42.48767961, 40.89745767, 36.82945519, 45.43188623,\n",
              "       44.37094904, 40.28405438, 33.57190243, 38.97828482, 46.25649761,\n",
              "       39.16132826, 48.46487763, 45.80551447, 37.5617329 , 40.47019156,\n",
              "       37.706067  , 40.12369374, 36.45610206, 36.69242269, 47.07480113,\n",
              "       40.509946  , 50.48792679, 35.30680391, 48.88900804, 40.57517199,\n",
              "       39.90551817, 36.59476422, 40.11079602, 43.20601932, 45.10108963,\n",
              "       36.2682753 , 39.95518828, 38.26438933, 44.44091029, 26.49084426,\n",
              "       32.92074851, 31.99642187, 43.43610734, 43.0254307 , 41.87659706,\n",
              "       34.25663032, 43.50364299, 28.91434711, 32.780188  , 38.10581893,\n",
              "       29.54874881, 39.5672662 , 38.26283733, 33.10670019, 36.56093103,\n",
              "       44.53311083, 47.77500927, 37.76949087, 31.14672756, 41.67249743,\n",
              "       35.48539721, 49.97478779, 45.08582367, 30.78427817, 47.8918137 ,\n",
              "       42.5217306 , 37.58170654, 34.50911601, 41.27529047, 34.81275538,\n",
              "       39.09200608, 34.25110256, 33.31421958, 42.30495135, 42.1836479 ,\n",
              "       39.9904188 , 45.758739  , 48.18284416, 40.14479278, 38.90433401,\n",
              "       37.13320684, 44.26149734, 41.74850068, 42.9857898 , 39.2004943 ,\n",
              "       44.44556166, 40.14868949, 48.49819101, 44.99337751, 47.87620736,\n",
              "       39.41502596, 37.11207054, 48.67571843, 30.76042827, 40.81228493,\n",
              "       35.62625732, 41.79505501, 45.91864014, 39.11740044, 39.99568419,\n",
              "       39.68309904, 43.49058623, 34.01892405, 35.25865409, 35.15990463,\n",
              "       42.14906639, 41.60754861, 45.38583569, 42.14752215, 43.83181526,\n",
              "       39.93713426, 48.68656034, 39.44939181, 39.71574464, 38.85348818,\n",
              "       43.20964111, 35.68416133, 38.82446969, 33.25012553, 40.93855705,\n",
              "       44.94433622, 40.27892571, 41.41314627, 45.29510851, 40.02698089,\n",
              "       40.27064554, 46.80575099, 44.68724853, 35.91527609, 37.09260985,\n",
              "       38.4215033 , 27.7202059 , 38.41868673, 42.63642347, 41.29621694,\n",
              "       32.76177427, 47.93782639, 36.67945114, 34.89612129, 39.0919692 ,\n",
              "       36.66346864, 38.61621786, 35.04739045, 36.99660111, 33.63482014,\n",
              "       46.54785752, 41.22535952, 40.86077166, 37.27525399, 40.38461484,\n",
              "       39.1625066 , 43.71416523, 39.70009709, 41.8344826 , 47.28774439,\n",
              "       44.80822114, 30.76749558, 42.22597614, 37.51182472, 32.65097705,\n",
              "       38.76150871, 44.64140508, 38.73069874, 48.82353556, 44.44681113,\n",
              "       36.87894105, 44.82450963, 44.5729725 , 34.6515252 , 36.61442278,\n",
              "       42.23974001, 40.04371001, 41.7913917 , 45.4890484 , 40.15960178,\n",
              "       40.5372713 , 36.17918679, 33.51958617, 36.56572089, 38.27111452,\n",
              "       42.49291175, 36.22362536, 41.32886419, 36.24579595, 34.81721225,\n",
              "       43.17795635, 44.3631314 , 33.82716025, 42.22250354, 46.35805715,\n",
              "       36.83023713, 32.86574283, 39.60342634, 42.07364843, 36.690734  ,\n",
              "       42.73832792, 37.50415312, 43.79723358, 40.49776398, 39.99302996,\n",
              "       46.9385548 , 43.99230884, 38.87629996, 48.43112729, 39.43884295,\n",
              "       35.09130473, 35.29768842, 38.40216147, 36.60065812, 42.9087003 ,\n",
              "       34.61687759, 43.76732474, 36.90045306, 41.61361358, 36.6375592 ,\n",
              "       40.18312672, 42.05629277, 37.79387391, 41.53307704, 35.84465144,\n",
              "       33.86938074, 41.51416792, 36.37189465, 42.35444926, 47.78884341,\n",
              "       37.59959897, 30.99676651, 38.66640948, 38.4283839 , 35.79303742,\n",
              "       43.53549901, 41.31584385, 36.58084557, 42.12489301, 38.66650486,\n",
              "       51.96384741, 51.51390072, 45.04442773, 37.62493698, 42.2511985 ,\n",
              "       41.03001529, 32.84195104, 42.21528342, 46.04384434, 38.56015421,\n",
              "       45.44895757, 38.4710147 , 40.18271333, 46.31692007, 39.50711728,\n",
              "       50.60822265, 42.8199298 , 41.3009253 , 37.57210637, 38.9869556 ,\n",
              "       36.59472537, 41.86236421, 39.73899128, 40.50888745, 37.94435941,\n",
              "       44.16945534, 48.60831144, 41.85841411, 34.32539002, 42.32373435,\n",
              "       35.9400345 , 40.77302498, 34.71444904, 38.46332628, 41.60881545,\n",
              "       33.92947505, 38.30550046, 38.83340492, 36.77091004, 44.7173697 ,\n",
              "       30.5143152 , 38.63943394, 30.28005383, 45.69872569, 40.64465901,\n",
              "       40.02345384, 40.75929887, 38.27603967, 43.12602129, 40.07374106,\n",
              "       41.06390968, 48.07678642, 45.02330581, 42.47406506, 42.15962373,\n",
              "       39.07692493, 41.83023805, 37.51148242, 43.46741144, 35.41963969,\n",
              "       42.50394067, 41.03321495, 43.80701688, 44.02170362, 41.83989866,\n",
              "       41.4046239 , 35.93362469, 37.01479972, 35.51536253, 40.60415727,\n",
              "       40.48836198, 33.73067615, 45.00517122, 40.39395349, 34.29434758,\n",
              "       37.15853031, 41.6772247 , 34.68910872, 36.29622034, 35.98395398,\n",
              "       43.80910046, 34.83073267, 38.71878386, 40.22975147, 37.88457833,\n",
              "       38.29529678, 37.2598318 , 30.93081745, 32.22170696, 38.93934245,\n",
              "       41.48867364, 36.67112221, 30.87721636, 39.78220034, 42.10278415,\n",
              "       40.51416873, 40.34187657, 38.18502902, 40.32025345, 40.68173921,\n",
              "       40.28753121, 35.51268789, 30.8449294 , 33.26395386, 34.96951525,\n",
              "       35.24998579, 34.46494672, 43.93487128, 42.6452791 , 37.37753864,\n",
              "       40.81604537, 38.59518494, 39.43055605, 45.59985233, 39.37809462,\n",
              "       32.33788328, 40.33709456, 40.44870827, 36.23323554, 42.23202082,\n",
              "       40.18142051, 41.42302699, 34.91364516, 41.21950473, 38.2003616 ,\n",
              "       35.4962735 , 44.55335687, 40.5179571 , 37.51479864, 43.10420379,\n",
              "       42.94689861, 33.53927931, 47.78218916, 41.44774161, 41.96426444,\n",
              "       35.44836459, 44.9912713 , 42.55754086, 44.18411498, 40.7128604 ,\n",
              "       42.06085894, 45.48893261, 43.84437354, 41.96871796, 32.9539157 ,\n",
              "       39.78337735, 41.16617582, 35.89183421, 35.94109483, 41.81167165,\n",
              "       43.34929759, 37.45723177, 38.57456233, 36.1190643 , 41.21958932,\n",
              "       36.7767665 , 42.11023594, 35.97230336, 40.86265106, 42.43174177,\n",
              "       36.2805619 , 41.6772302 , 43.79242162, 37.92764084, 37.9078014 ,\n",
              "       42.4078313 , 47.82774553, 43.82311779, 41.58078587, 44.20103192,\n",
              "       41.77056895, 48.74697372, 39.23396968, 37.39708101, 43.57088322,\n",
              "       34.34763222, 41.41263102, 51.54359838, 35.81007919, 40.92709251,\n",
              "       49.06116848, 45.61080125, 38.76178139, 39.16945949, 42.70172899,\n",
              "       41.68827558, 47.93818687, 41.09807734, 33.77490627, 43.10505052,\n",
              "       47.49375933, 38.76709792, 38.22234115, 39.91383748, 34.9706322 ,\n",
              "       40.21464056, 45.88163427, 37.41538777, 38.00711396, 42.41840316,\n",
              "       42.33015137, 32.48911881, 49.00440209, 38.2469585 , 43.73999923,\n",
              "       35.86066421, 43.70504864, 49.26917661, 32.25561954, 47.60207951,\n",
              "       29.47117989, 39.73496669, 45.39466597, 40.69693247, 39.0023933 ,\n",
              "       38.8494997 , 41.15707167, 41.1994307 , 41.22774072, 35.11240532,\n",
              "       39.68048694, 35.54694135, 41.5890496 , 43.28049967, 39.74301631,\n",
              "       35.69845405, 35.28327898, 46.78814899, 45.17235207, 43.06595742,\n",
              "       32.32338989, 49.02739648, 35.13099515, 41.64841728, 42.32529423])"
            ]
          },
          "metadata": {},
          "execution_count": 96
        }
      ]
    },
    {
      "cell_type": "code",
      "source": [
        "#plot histogram bins=50\n",
        "\n",
        "plt.hist(sample, bins=50)"
      ],
      "metadata": {
        "id": "I9vVxioYwlrA",
        "colab": {
          "base_uri": "https://localhost:8080/",
          "height": 716
        },
        "outputId": "063ee563-375c-4f34-8d9e-11deca7cd802"
      },
      "execution_count": null,
      "outputs": [
        {
          "output_type": "execute_result",
          "data": {
            "text/plain": [
              "(array([ 1.,  2.,  2.,  0.,  5.,  5.,  9., 13., 18., 13., 15., 13., 15.,\n",
              "        21., 19., 20., 19., 22., 21., 16., 10., 21.,  8.,  8.,  6.,  6.,\n",
              "        15.,  6., 20., 20., 30., 48., 43., 43., 43., 51., 61., 50., 64.,\n",
              "        34., 35., 34., 27., 15., 19., 17.,  6.,  4.,  4.,  3.]),\n",
              " array([ 6.34838752,  7.27362383,  8.19886014,  9.12409645, 10.04933275,\n",
              "        10.97456906, 11.89980537, 12.82504168, 13.75027799, 14.6755143 ,\n",
              "        15.60075061, 16.52598692, 17.45122323, 18.37645954, 19.30169585,\n",
              "        20.22693216, 21.15216847, 22.07740478, 23.00264109, 23.9278774 ,\n",
              "        24.85311371, 25.77835002, 26.70358633, 27.62882264, 28.55405894,\n",
              "        29.47929525, 30.40453156, 31.32976787, 32.25500418, 33.18024049,\n",
              "        34.1054768 , 35.03071311, 35.95594942, 36.88118573, 37.80642204,\n",
              "        38.73165835, 39.65689466, 40.58213097, 41.50736728, 42.43260359,\n",
              "        43.3578399 , 44.28307621, 45.20831252, 46.13354883, 47.05878513,\n",
              "        47.98402144, 48.90925775, 49.83449406, 50.75973037, 51.68496668,\n",
              "        52.61020299]),\n",
              " <BarContainer object of 50 artists>)"
            ]
          },
          "metadata": {},
          "execution_count": 97
        },
        {
          "output_type": "display_data",
          "data": {
            "text/plain": [
              "<Figure size 640x480 with 1 Axes>"
            ],
            "image/png": "[encoded data removed]"
          },
          "metadata": {}
        }
      ]
    },
    {
      "cell_type": "code",
      "source": [
        "sample.shape"
      ],
      "metadata": {
        "colab": {
          "base_uri": "https://localhost:8080/"
        },
        "id": "2rppeccHBhlN",
        "outputId": "157d96b0-8f39-431d-bb02-445c4be4bced"
      },
      "execution_count": null,
      "outputs": [
        {
          "output_type": "execute_result",
          "data": {
            "text/plain": [
              "(1000,)"
            ]
          },
          "metadata": {},
          "execution_count": 98
        }
      ]
    },
    {
      "cell_type": "code",
      "source": [
        "from sklearn.neighbors import KernelDensity\n",
        "\n",
        "model = KernelDensity(bandwidth=5, kernel='gaussian')\n",
        "\n",
        "#convert data to a 2D array\n",
        "sample = sample.reshape(len(sample), 1)\n",
        "# sample.shape\n",
        "\n",
        "model.fit(sample)"
      ],
      "metadata": {
        "colab": {
          "base_uri": "https://localhost:8080/",
          "height": 79
        },
        "id": "eK1yIbqVA9Y9",
        "outputId": "44dc861f-362f-405f-b4a9-c8c0eb46fce5"
      },
      "execution_count": null,
      "outputs": [
        {
          "output_type": "execute_result",
          "data": {
            "text/plain": [
              "KernelDensity(bandwidth=5)"
            ],
            "text/html": [
              "<style>#sk-container-id-3 {\n",
              "  /* Definition of color scheme common for light and dark mode */\n",
              "  --sklearn-color-text: #000;\n",
              "  --sklearn-color-text-muted: #666;\n",
              "  --sklearn-color-line: gray;\n",
              "  /* Definition of color scheme for unfitted estimators */\n",
              "  --sklearn-color-unfitted-level-0: #fff5e6;\n",
              "  --sklearn-color-unfitted-level-1: #f6e4d2;\n",
              "  --sklearn-color-unfitted-level-2: #ffe0b3;\n",
              "  --sklearn-color-unfitted-level-3: chocolate;\n",
              "  /* Definition of color scheme for fitted estimators */\n",
              "  --sklearn-color-fitted-level-0: #f0f8ff;\n",
              "  --sklearn-color-fitted-level-1: #d4ebff;\n",
              "  --sklearn-color-fitted-level-2: #b3dbfd;\n",
              "  --sklearn-color-fitted-level-3: cornflowerblue;\n",
              "\n",
              "  /* Specific color for light theme */\n",
              "  --sklearn-color-text-on-default-background: var(--sg-text-color, var(--theme-code-foreground, var(--jp-content-font-color1, black)));\n",
              "  --sklearn-color-background: var(--sg-background-color, var(--theme-background, var(--jp-layout-color0, white)));\n",
              "  --sklearn-color-border-box: var(--sg-text-color, var(--theme-code-foreground, var(--jp-content-font-color1, black)));\n",
              "  --sklearn-color-icon: #696969;\n",
              "\n",
              "  @media (prefers-color-scheme: dark) {\n",
              "    /* Redefinition of color scheme for dark theme */\n",
              "    --sklearn-color-text-on-default-background: var(--sg-text-color, var(--theme-code-foreground, var(--jp-content-font-color1, white)));\n",
              "    --sklearn-color-background: var(--sg-background-color, var(--theme-background, var(--jp-layout-color0, #111)));\n",
              "    --sklearn-color-border-box: var(--sg-text-color, var(--theme-code-foreground, var(--jp-content-font-color1, white)));\n",
              "    --sklearn-color-icon: #878787;\n",
              "  }\n",
              "}\n",
              "\n",
              "#sk-container-id-3 {\n",
              "  color: var(--sklearn-color-text);\n",
              "}\n",
              "\n",
              "#sk-container-id-3 pre {\n",
              "  padding: 0;\n",
              "}\n",
              "\n",
              "#sk-container-id-3 input.sk-hidden--visually {\n",
              "  border: 0;\n",
              "  clip: rect(1px 1px 1px 1px);\n",
              "  clip: rect(1px, 1px, 1px, 1px);\n",
              "  height: 1px;\n",
              "  margin: -1px;\n",
              "  overflow: hidden;\n",
              "  padding: 0;\n",
              "  position: absolute;\n",
              "  width: 1px;\n",
              "}\n",
              "\n",
              "#sk-container-id-3 div.sk-dashed-wrapped {\n",
              "  border: 1px dashed var(--sklearn-color-line);\n",
              "  margin: 0 0.4em 0.5em 0.4em;\n",
              "  box-sizing: border-box;\n",
              "  padding-bottom: 0.4em;\n",
              "  background-color: var(--sklearn-color-background);\n",
              "}\n",
              "\n",
              "#sk-container-id-3 div.sk-container {\n",
              "  /* jupyter's `normalize.less` sets `[hidden] { display: none; }`\n",
              "     but bootstrap.min.css set `[hidden] { display: none !important; }`\n",
              "     so we also need the `!important` here to be able to override the\n",
              "     default hidden behavior on the sphinx rendered scikit-learn.org.\n",
              "     See: https://github.com/scikit-learn/scikit-learn/issues/21755 */\n",
              "  display: inline-block !important;\n",
              "  position: relative;\n",
              "}\n",
              "\n",
              "#sk-container-id-3 div.sk-text-repr-fallback {\n",
              "  display: none;\n",
              "}\n",
              "\n",
              "div.sk-parallel-item,\n",
              "div.sk-serial,\n",
              "div.sk-item {\n",
              "  /* draw centered vertical line to link estimators */\n",
              "  background-image: linear-gradient(var(--sklearn-color-text-on-default-background), var(--sklearn-color-text-on-default-background));\n",
              "  background-size: 2px 100%;\n",
              "  background-repeat: no-repeat;\n",
              "  background-position: center center;\n",
              "}\n",
              "\n",
              "/* Parallel-specific style estimator block */\n",
              "\n",
              "#sk-container-id-3 div.sk-parallel-item::after {\n",
              "  content: \"\";\n",
              "  width: 100%;\n",
              "  border-bottom: 2px solid var(--sklearn-color-text-on-default-background);\n",
              "  flex-grow: 1;\n",
              "}\n",
              "\n",
              "#sk-container-id-3 div.sk-parallel {\n",
              "  display: flex;\n",
              "  align-items: stretch;\n",
              "  justify-content: center;\n",
              "  background-color: var(--sklearn-color-background);\n",
              "  position: relative;\n",
              "}\n",
              "\n",
              "#sk-container-id-3 div.sk-parallel-item {\n",
              "  display: flex;\n",
              "  flex-direction: column;\n",
              "}\n",
              "\n",
              "#sk-container-id-3 div.sk-parallel-item:first-child::after {\n",
              "  align-self: flex-end;\n",
              "  width: 50%;\n",
              "}\n",
              "\n",
              "#sk-container-id-3 div.sk-parallel-item:last-child::after {\n",
              "  align-self: flex-start;\n",
              "  width: 50%;\n",
              "}\n",
              "\n",
              "#sk-container-id-3 div.sk-parallel-item:only-child::after {\n",
              "  width: 0;\n",
              "}\n",
              "\n",
              "/* Serial-specific style estimator block */\n",
              "\n",
              "#sk-container-id-3 div.sk-serial {\n",
              "  display: flex;\n",
              "  flex-direction: column;\n",
              "  align-items: center;\n",
              "  background-color: var(--sklearn-color-background);\n",
              "  padding-right: 1em;\n",
              "  padding-left: 1em;\n",
              "}\n",
              "\n",
              "\n",
              "/* Toggleable style: style used for estimator/Pipeline/ColumnTransformer box that is\n",
              "clickable and can be expanded/collapsed.\n",
              "- Pipeline and ColumnTransformer use this feature and define the default style\n",
              "- Estimators will overwrite some part of the style using the `sk-estimator` class\n",
              "*/\n",
              "\n",
              "/* Pipeline and ColumnTransformer style (default) */\n",
              "\n",
              "#sk-container-id-3 div.sk-toggleable {\n",
              "  /* Default theme specific background. It is overwritten whether we have a\n",
              "  specific estimator or a Pipeline/ColumnTransformer */\n",
              "  background-color: var(--sklearn-color-background);\n",
              "}\n",
              "\n",
              "/* Toggleable label */\n",
              "#sk-container-id-3 label.sk-toggleable__label {\n",
              "  cursor: pointer;\n",
              "  display: flex;\n",
              "  width: 100%;\n",
              "  margin-bottom: 0;\n",
              "  padding: 0.5em;\n",
              "  box-sizing: border-box;\n",
              "  text-align: center;\n",
              "  align-items: start;\n",
              "  justify-content: space-between;\n",
              "  gap: 0.5em;\n",
              "}\n",
              "\n",
              "#sk-container-id-3 label.sk-toggleable__label .caption {\n",
              "  font-size: 0.6rem;\n",
              "  font-weight: lighter;\n",
              "  color: var(--sklearn-color-text-muted);\n",
              "}\n",
              "\n",
              "#sk-container-id-3 label.sk-toggleable__label-arrow:before {\n",
              "  /* Arrow on the left of the label */\n",
              "  content: \"▸\";\n",
              "  float: left;\n",
              "  margin-right: 0.25em;\n",
              "  color: var(--sklearn-color-icon);\n",
              "}\n",
              "\n",
              "#sk-container-id-3 label.sk-toggleable__label-arrow:hover:before {\n",
              "  color: var(--sklearn-color-text);\n",
              "}\n",
              "\n",
              "/* Toggleable content - dropdown */\n",
              "\n",
              "#sk-container-id-3 div.sk-toggleable__content {\n",
              "  max-height: 0;\n",
              "  max-width: 0;\n",
              "  overflow: hidden;\n",
              "  text-align: left;\n",
              "  /* unfitted */\n",
              "  background-color: var(--sklearn-color-unfitted-level-0);\n",
              "}\n",
              "\n",
              "#sk-container-id-3 div.sk-toggleable__content.fitted {\n",
              "  /* fitted */\n",
              "  background-color: var(--sklearn-color-fitted-level-0);\n",
              "}\n",
              "\n",
              "#sk-container-id-3 div.sk-toggleable__content pre {\n",
              "  margin: 0.2em;\n",
              "  border-radius: 0.25em;\n",
              "  color: var(--sklearn-color-text);\n",
              "  /* unfitted */\n",
              "  background-color: var(--sklearn-color-unfitted-level-0);\n",
              "}\n",
              "\n",
              "#sk-container-id-3 div.sk-toggleable__content.fitted pre {\n",
              "  /* unfitted */\n",
              "  background-color: var(--sklearn-color-fitted-level-0);\n",
              "}\n",
              "\n",
              "#sk-container-id-3 input.sk-toggleable__control:checked~div.sk-toggleable__content {\n",
              "  /* Expand drop-down */\n",
              "  max-height: 200px;\n",
              "  max-width: 100%;\n",
              "  overflow: auto;\n",
              "}\n",
              "\n",
              "#sk-container-id-3 input.sk-toggleable__control:checked~label.sk-toggleable__label-arrow:before {\n",
              "  content: \"▾\";\n",
              "}\n",
              "\n",
              "/* Pipeline/ColumnTransformer-specific style */\n",
              "\n",
              "#sk-container-id-3 div.sk-label input.sk-toggleable__control:checked~label.sk-toggleable__label {\n",
              "  color: var(--sklearn-color-text);\n",
              "  background-color: var(--sklearn-color-unfitted-level-2);\n",
              "}\n",
              "\n",
              "#sk-container-id-3 div.sk-label.fitted input.sk-toggleable__control:checked~label.sk-toggleable__label {\n",
              "  background-color: var(--sklearn-color-fitted-level-2);\n",
              "}\n",
              "\n",
              "/* Estimator-specific style */\n",
              "\n",
              "/* Colorize estimator box */\n",
              "#sk-container-id-3 div.sk-estimator input.sk-toggleable__control:checked~label.sk-toggleable__label {\n",
              "  /* unfitted */\n",
              "  background-color: var(--sklearn-color-unfitted-level-2);\n",
              "}\n",
              "\n",
              "#sk-container-id-3 div.sk-estimator.fitted input.sk-toggleable__control:checked~label.sk-toggleable__label {\n",
              "  /* fitted */\n",
              "  background-color: var(--sklearn-color-fitted-level-2);\n",
              "}\n",
              "\n",
              "#sk-container-id-3 div.sk-label label.sk-toggleable__label,\n",
              "#sk-container-id-3 div.sk-label label {\n",
              "  /* The background is the default theme color */\n",
              "  color: var(--sklearn-color-text-on-default-background);\n",
              "}\n",
              "\n",
              "/* On hover, darken the color of the background */\n",
              "#sk-container-id-3 div.sk-label:hover label.sk-toggleable__label {\n",
              "  color: var(--sklearn-color-text);\n",
              "  background-color: var(--sklearn-color-unfitted-level-2);\n",
              "}\n",
              "\n",
              "/* Label box, darken color on hover, fitted */\n",
              "#sk-container-id-3 div.sk-label.fitted:hover label.sk-toggleable__label.fitted {\n",
              "  color: var(--sklearn-color-text);\n",
              "  background-color: var(--sklearn-color-fitted-level-2);\n",
              "}\n",
              "\n",
              "/* Estimator label */\n",
              "\n",
              "#sk-container-id-3 div.sk-label label {\n",
              "  font-family: monospace;\n",
              "  font-weight: bold;\n",
              "  display: inline-block;\n",
              "  line-height: 1.2em;\n",
              "}\n",
              "\n",
              "#sk-container-id-3 div.sk-label-container {\n",
              "  text-align: center;\n",
              "}\n",
              "\n",
              "/* Estimator-specific */\n",
              "#sk-container-id-3 div.sk-estimator {\n",
              "  font-family: monospace;\n",
              "  border: 1px dotted var(--sklearn-color-border-box);\n",
              "  border-radius: 0.25em;\n",
              "  box-sizing: border-box;\n",
              "  margin-bottom: 0.5em;\n",
              "  /* unfitted */\n",
              "  background-color: var(--sklearn-color-unfitted-level-0);\n",
              "}\n",
              "\n",
              "#sk-container-id-3 div.sk-estimator.fitted {\n",
              "  /* fitted */\n",
              "  background-color: var(--sklearn-color-fitted-level-0);\n",
              "}\n",
              "\n",
              "/* on hover */\n",
              "#sk-container-id-3 div.sk-estimator:hover {\n",
              "  /* unfitted */\n",
              "  background-color: var(--sklearn-color-unfitted-level-2);\n",
              "}\n",
              "\n",
              "#sk-container-id-3 div.sk-estimator.fitted:hover {\n",
              "  /* fitted */\n",
              "  background-color: var(--sklearn-color-fitted-level-2);\n",
              "}\n",
              "\n",
              "/* Specification for estimator info (e.g. \"i\" and \"?\") */\n",
              "\n",
              "/* Common style for \"i\" and \"?\" */\n",
              "\n",
              ".sk-estimator-doc-link,\n",
              "a:link.sk-estimator-doc-link,\n",
              "a:visited.sk-estimator-doc-link {\n",
              "  float: right;\n",
              "  font-size: smaller;\n",
              "  line-height: 1em;\n",
              "  font-family: monospace;\n",
              "  background-color: var(--sklearn-color-background);\n",
              "  border-radius: 1em;\n",
              "  height: 1em;\n",
              "  width: 1em;\n",
              "  text-decoration: none !important;\n",
              "  margin-left: 0.5em;\n",
              "  text-align: center;\n",
              "  /* unfitted */\n",
              "  border: var(--sklearn-color-unfitted-level-1) 1pt solid;\n",
              "  color: var(--sklearn-color-unfitted-level-1);\n",
              "}\n",
              "\n",
              ".sk-estimator-doc-link.fitted,\n",
              "a:link.sk-estimator-doc-link.fitted,\n",
              "a:visited.sk-estimator-doc-link.fitted {\n",
              "  /* fitted */\n",
              "  border: var(--sklearn-color-fitted-level-1) 1pt solid;\n",
              "  color: var(--sklearn-color-fitted-level-1);\n",
              "}\n",
              "\n",
              "/* On hover */\n",
              "div.sk-estimator:hover .sk-estimator-doc-link:hover,\n",
              ".sk-estimator-doc-link:hover,\n",
              "div.sk-label-container:hover .sk-estimator-doc-link:hover,\n",
              ".sk-estimator-doc-link:hover {\n",
              "  /* unfitted */\n",
              "  background-color: var(--sklearn-color-unfitted-level-3);\n",
              "  color: var(--sklearn-color-background);\n",
              "  text-decoration: none;\n",
              "}\n",
              "\n",
              "div.sk-estimator.fitted:hover .sk-estimator-doc-link.fitted:hover,\n",
              ".sk-estimator-doc-link.fitted:hover,\n",
              "div.sk-label-container:hover .sk-estimator-doc-link.fitted:hover,\n",
              ".sk-estimator-doc-link.fitted:hover {\n",
              "  /* fitted */\n",
              "  background-color: var(--sklearn-color-fitted-level-3);\n",
              "  color: var(--sklearn-color-background);\n",
              "  text-decoration: none;\n",
              "}\n",
              "\n",
              "/* Span, style for the box shown on hovering the info icon */\n",
              ".sk-estimator-doc-link span {\n",
              "  display: none;\n",
              "  z-index: 9999;\n",
              "  position: relative;\n",
              "  font-weight: normal;\n",
              "  right: .2ex;\n",
              "  padding: .5ex;\n",
              "  margin: .5ex;\n",
              "  width: min-content;\n",
              "  min-width: 20ex;\n",
              "  max-width: 50ex;\n",
              "  color: var(--sklearn-color-text);\n",
              "  box-shadow: 2pt 2pt 4pt #999;\n",
              "  /* unfitted */\n",
              "  background: var(--sklearn-color-unfitted-level-0);\n",
              "  border: .5pt solid var(--sklearn-color-unfitted-level-3);\n",
              "}\n",
              "\n",
              ".sk-estimator-doc-link.fitted span {\n",
              "  /* fitted */\n",
              "  background: var(--sklearn-color-fitted-level-0);\n",
              "  border: var(--sklearn-color-fitted-level-3);\n",
              "}\n",
              "\n",
              ".sk-estimator-doc-link:hover span {\n",
              "  display: block;\n",
              "}\n",
              "\n",
              "/* \"?\"-specific style due to the `<a>` HTML tag */\n",
              "\n",
              "#sk-container-id-3 a.estimator_doc_link {\n",
              "  float: right;\n",
              "  font-size: 1rem;\n",
              "  line-height: 1em;\n",
              "  font-family: monospace;\n",
              "  background-color: var(--sklearn-color-background);\n",
              "  border-radius: 1rem;\n",
              "  height: 1rem;\n",
              "  width: 1rem;\n",
              "  text-decoration: none;\n",
              "  /* unfitted */\n",
              "  color: var(--sklearn-color-unfitted-level-1);\n",
              "  border: var(--sklearn-color-unfitted-level-1) 1pt solid;\n",
              "}\n",
              "\n",
              "#sk-container-id-3 a.estimator_doc_link.fitted {\n",
              "  /* fitted */\n",
              "  border: var(--sklearn-color-fitted-level-1) 1pt solid;\n",
              "  color: var(--sklearn-color-fitted-level-1);\n",
              "}\n",
              "\n",
              "/* On hover */\n",
              "#sk-container-id-3 a.estimator_doc_link:hover {\n",
              "  /* unfitted */\n",
              "  background-color: var(--sklearn-color-unfitted-level-3);\n",
              "  color: var(--sklearn-color-background);\n",
              "  text-decoration: none;\n",
              "}\n",
              "\n",
              "#sk-container-id-3 a.estimator_doc_link.fitted:hover {\n",
              "  /* fitted */\n",
              "  background-color: var(--sklearn-color-fitted-level-3);\n",
              "}\n",
              "</style><div id=\"sk-container-id-3\" class=\"sk-top-container\"><div class=\"sk-text-repr-fallback\"><pre>KernelDensity(bandwidth=5)</pre><b>In a Jupyter environment, please rerun this cell to show the HTML representation or trust the notebook. <br />On GitHub, the HTML representation is unable to render, please try loading this page with nbviewer.org.</b></div><div class=\"sk-container\" hidden><div class=\"sk-item\"><div class=\"sk-estimator fitted sk-toggleable\"><input class=\"sk-toggleable__control sk-hidden--visually\" id=\"sk-estimator-id-3\" type=\"checkbox\" checked><label for=\"sk-estimator-id-3\" class=\"sk-toggleable__label fitted sk-toggleable__label-arrow\"><div><div>KernelDensity</div></div><div><a class=\"sk-estimator-doc-link fitted\" rel=\"noreferrer\" target=\"_blank\" href=\"https://scikit-learn.org/1.6/modules/generated/sklearn.neighbors.KernelDensity.html\">?<span>Documentation for KernelDensity</span></a><span class=\"sk-estimator-doc-link fitted\">i<span>Fitted</span></span></div></label><div class=\"sk-toggleable__content fitted\"><pre>KernelDensity(bandwidth=5)</pre></div> </div></div></div></div>"
            ]
          },
          "metadata": {},
          "execution_count": 99
        }
      ]
    },
    {
      "cell_type": "code",
      "source": [
        "values = np.linspace(sample.min(),sample.max(),100)\n",
        "values = values.reshape((len(values), 1))"
      ],
      "metadata": {
        "id": "qWgul8rhA9Vd"
      },
      "execution_count": null,
      "outputs": []
    },
    {
      "cell_type": "code",
      "source": [
        "# probabilites are actually probability densities\n",
        "probabilities = model.score_samples(values)\n",
        "probabilities = np.exp(probabilities)"
      ],
      "metadata": {
        "id": "9KucV7eKA9Sk"
      },
      "execution_count": null,
      "outputs": []
    },
    {
      "cell_type": "markdown",
      "source": [
        "score_samples(values) returns the log-density estimate of the input samples values. This is because the score_samples() method of the KernelDensity class returns the logarithm of the probability density estimate rather than the actual probability density estimate."
      ],
      "metadata": {
        "id": "qXch5D3fB4Ud"
      }
    },
    {
      "cell_type": "code",
      "source": [
        "plt.hist(sample, bins=50, density=True)\n",
        "plt.plot(values[:], probabilities)\n",
        "plt.show()"
      ],
      "metadata": {
        "colab": {
          "base_uri": "https://localhost:8080/",
          "height": 430
        },
        "id": "3sSbGcFVB4RB",
        "outputId": "936480f1-362a-41f8-8072-0050ad3ea78b"
      },
      "execution_count": null,
      "outputs": [
        {
          "output_type": "display_data",
          "data": {
            "text/plain": [
              "<Figure size 640x480 with 1 Axes>"
            ],
            "image/png": "[encoded data removed]"
          },
          "metadata": {}
        }
      ]
    },
    {
      "cell_type": "code",
      "source": [
        "# when bandwith=0.2\n",
        "sns.kdeplot(sample.reshape(1000),bw_adjust=0.02)"
      ],
      "metadata": {
        "colab": {
          "base_uri": "https://localhost:8080/",
          "height": 452
        },
        "id": "vobteEUCB4OL",
        "outputId": "72bf160c-a62e-4e5e-f972-77bfb19f9d6c"
      },
      "execution_count": null,
      "outputs": [
        {
          "output_type": "execute_result",
          "data": {
            "text/plain": [
              "<Axes: ylabel='Density'>"
            ]
          },
          "metadata": {},
          "execution_count": 103
        },
        {
          "output_type": "display_data",
          "data": {
            "text/plain": [
              "<Figure size 640x480 with 1 Axes>"
            ],
            "image/png": "[encoded data removed]"
          },
          "metadata": {}
        }
      ]
    },
    {
      "cell_type": "code",
      "source": [
        "# when bandwith=2\n",
        "sns.kdeplot(sample.reshape(1000),bw_adjust=2.5)"
      ],
      "metadata": {
        "colab": {
          "base_uri": "https://localhost:8080/",
          "height": 448
        },
        "id": "RTQ0KoZBCf-Q",
        "outputId": "ab1875cd-3564-47f8-927b-d5ef6325b315"
      },
      "execution_count": null,
      "outputs": [
        {
          "output_type": "execute_result",
          "data": {
            "text/plain": [
              "<Axes: ylabel='Density'>"
            ]
          },
          "metadata": {},
          "execution_count": 104
        },
        {
          "output_type": "display_data",
          "data": {
            "text/plain": [
              "<Figure size 640x480 with 1 Axes>"
            ],
            "image/png": "[encoded data removed]"
          },
          "metadata": {}
        }
      ]
    },
    {
      "cell_type": "code",
      "source": [],
      "metadata": {
        "id": "pWk6a4eWCmh4"
      },
      "execution_count": null,
      "outputs": []
    },
    {
      "cell_type": "code",
      "source": [],
      "metadata": {
        "id": "-M3jo5oOCmeb"
      },
      "execution_count": null,
      "outputs": []
    }
  ]
}