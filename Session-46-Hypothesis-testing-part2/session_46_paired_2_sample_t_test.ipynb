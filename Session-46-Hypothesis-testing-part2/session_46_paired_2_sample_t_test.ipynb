{
  "nbformat": 4,
  "nbformat_minor": 0,
  "metadata": {
    "colab": {
      "provenance": []
    },
    "kernelspec": {
      "name": "python3",
      "display_name": "Python 3"
    },
    "language_info": {
      "name": "python"
    }
  },
  "cells": [
    {
      "cell_type": "code",
      "execution_count": null,
      "metadata": {
        "colab": {
          "base_uri": "https://localhost:8080/"
        },
        "id": "59WZZpC9HIsO",
        "outputId": "4756a61f-fe8a-4bc6-d0ee-f2a5762d2338"
      },
      "outputs": [
        {
          "output_type": "stream",
          "name": "stdout",
          "text": [
            "2.256369746933224e-06\n"
          ]
        }
      ],
      "source": [
        "from scipy.stats import t\n",
        "\n",
        "# Set the t-value and degrees of freedom\n",
        "t_value = -5.25\n",
        "df = 58  # Replace this with your specific degrees of freedom\n",
        "\n",
        "# Calculate the CDF value\n",
        "cdf_value = t.cdf(t_value, df)\n",
        "print(cdf_value*2)\n"
      ]
    },
    {
      "cell_type": "code",
      "source": [
        "# The Shapiro-Wilk test returns two values: the test statistic (W) and the p-value.\n",
        "# If the p-value is greater than your chosen significance level (α = 0.05),\n",
        "# you can assume the data comes from a normally distributed population.\n",
        "# If the p-value is less than or equal to the significance level, the normality assumption is not met,\n",
        "# and you should consider applying a data transformation or using a non-parametric test like the Mann-Whitney U test.\n",
        "\n",
        "\n",
        "from scipy.stats import shapiro\n",
        "\n",
        "# Input the data as lists\n",
        "desktop_users = [12, 15, 18, 16, 20, 17, 14, 22, 19, 21, 23, 18, 25, 17, 16, 24, 20, 19, 22, 18, 15, 14, 23, 16, 12, 21, 19, 17, 20, 14]\n",
        "mobile_users = [10, 12, 14, 13, 16, 15, 11, 17, 14, 16, 18, 14, 20, 15, 14, 19, 16, 15, 17, 14, 12, 11, 18, 15, 10, 16, 15, 13, 16, 11]\n",
        "\n",
        "# Perform the Shapiro-Wilk test for both desktop and mobile users\n",
        "shapiro_desktop = shapiro(desktop_users)\n",
        "shapiro_mobile = shapiro(mobile_users)\n",
        "\n",
        "print(\"Shapiro-Wilk test for desktop users:\", shapiro_desktop)\n",
        "print(\"Shapiro-Wilk test for mobile users:\", shapiro_mobile)\n"
      ],
      "metadata": {
        "colab": {
          "base_uri": "https://localhost:8080/"
        },
        "id": "MG589MbeRZJQ",
        "outputId": "a24944fa-9c13-4562-a47f-1859fe904a19"
      },
      "execution_count": null,
      "outputs": [
        {
          "output_type": "stream",
          "name": "stdout",
          "text": [
            "Shapiro-Wilk test for desktop users: ShapiroResult(statistic=np.float64(0.9783115512411942), pvalue=np.float64(0.7791003299808725))\n",
            "Shapiro-Wilk test for mobile users: ShapiroResult(statistic=np.float64(0.9714355768676655), pvalue=np.float64(0.5791606602037616))\n"
          ]
        }
      ]
    },
    {
      "cell_type": "code",
      "source": [
        "# If the p-value from Levene's test is greater than your chosen significance level (α = 0.05), you can assume equal variances\n",
        "#  If the p-value is less than or equal to the significance level, the assumption of equal variances is not met,\n",
        "# and you should consider using Welch's t-test instead of the regular independent two-sample t-test.\n",
        "\n",
        "from scipy.stats import levene\n",
        "\n",
        "# Input the data as lists\n",
        "desktop_users = [12, 15, 18, 16, 20, 17, 14, 22, 19, 21, 23, 18, 25, 17, 16, 24, 20, 19, 22, 18, 15, 14, 23, 16, 12, 21, 19, 17, 20, 14]\n",
        "mobile_users = [10, 12, 14, 13, 16, 15, 11, 17, 14, 16, 18, 14, 20, 15, 14, 19, 16, 15, 17, 14, 12, 11, 18, 15, 10, 16, 15, 13, 16, 11]\n",
        "\n",
        "# Perform Levene's test\n",
        "levene_test = levene(desktop_users, mobile_users)\n",
        "print(levene_test)\n"
      ],
      "metadata": {
        "colab": {
          "base_uri": "https://localhost:8080/"
        },
        "id": "uctKh0IsHON-",
        "outputId": "eee73e79-9fa6-47f0-959b-7577de0c0b67"
      },
      "execution_count": null,
      "outputs": [
        {
          "output_type": "stream",
          "name": "stdout",
          "text": [
            "LeveneResult(statistic=np.float64(2.94395488191752), pvalue=np.float64(0.09153720526741761))\n"
          ]
        }
      ]
    },
    {
      "cell_type": "code",
      "source": [
        "import numpy as np\n",
        "import scipy.stats as stats\n",
        "import matplotlib.pyplot as plt\n",
        "\n",
        "before = np.array([80, 92, 75, 68, 85, 78, 73, 90, 70, 88, 76, 84, 82, 77, 91])\n",
        "after = np.array([78, 93, 81, 67, 88, 76, 74, 91, 69, 88, 77, 81, 80, 79, 88])\n"
      ],
      "metadata": {
        "id": "iTFZKtBzPp3l"
      },
      "execution_count": null,
      "outputs": []
    },
    {
      "cell_type": "code",
      "source": [
        "differences = after - before"
      ],
      "metadata": {
        "id": "vHCfxY50fSoY"
      },
      "execution_count": null,
      "outputs": []
    },
    {
      "cell_type": "code",
      "source": [
        "plt.hist(differences)\n",
        "plt.title(\"Histogram of Weight Differences\")\n",
        "plt.xlabel(\"Weight Differences (kg)\")\n",
        "plt.ylabel(\"Frequency\")\n",
        "plt.show()\n",
        "\n",
        "shapiro_test = stats.shapiro(differences)\n",
        "print(\"Shapiro-Wilk test:\", shapiro_test)\n"
      ],
      "metadata": {
        "colab": {
          "base_uri": "https://localhost:8080/",
          "height": 490
        },
        "id": "Meoy64fQfWIy",
        "outputId": "093fd3df-596b-49a9-8ac7-b96df1295cb8"
      },
      "execution_count": null,
      "outputs": [
        {
          "output_type": "display_data",
          "data": {
            "text/plain": [
              "<Figure size 640x480 with 1 Axes>"
            ],
            "image/png": "[encoded data removed]"
          },
          "metadata": {}
        },
        {
          "output_type": "stream",
          "name": "stdout",
          "text": [
            "Shapiro-Wilk test: ShapiroResult(statistic=np.float64(0.9220571486009436), pvalue=np.float64(0.20704778986900568))\n"
          ]
        }
      ]
    },
    {
      "cell_type": "code",
      "source": [
        "mean_diff = np.mean(differences)\n",
        "std_diff = np.std(differences, ddof=1)"
      ],
      "metadata": {
        "id": "13dPf7-Wf4EB"
      },
      "execution_count": null,
      "outputs": []
    },
    {
      "cell_type": "code",
      "source": [
        "n = len(differences)\n",
        "t_statistic = mean_diff / (std_diff / np.sqrt(n))\n",
        "df = n - 1"
      ],
      "metadata": {
        "id": "DAxgFO5Wgbzz"
      },
      "execution_count": null,
      "outputs": []
    },
    {
      "cell_type": "code",
      "source": [
        "t_statistic"
      ],
      "metadata": {
        "colab": {
          "base_uri": "https://localhost:8080/"
        },
        "id": "P3A57rKdg312",
        "outputId": "d05ae56c-cb20-4a2d-a182-3392c6cdd604"
      },
      "execution_count": null,
      "outputs": [
        {
          "output_type": "execute_result",
          "data": {
            "text/plain": [
              "np.float64(0.10482848367219182)"
            ]
          },
          "metadata": {},
          "execution_count": 20
        }
      ]
    },
    {
      "cell_type": "code",
      "source": [
        "alpha = 0.05\n",
        "p_value = stats.t.cdf(t_statistic, df)"
      ],
      "metadata": {
        "id": "P6vf3xK0ghKh"
      },
      "execution_count": null,
      "outputs": []
    },
    {
      "cell_type": "code",
      "source": [
        "p_value"
      ],
      "metadata": {
        "colab": {
          "base_uri": "https://localhost:8080/"
        },
        "id": "ciY8VkIPgxKW",
        "outputId": "22765114-9552-48d5-b7fc-66417945dca7"
      },
      "execution_count": null,
      "outputs": [
        {
          "output_type": "execute_result",
          "data": {
            "text/plain": [
              "np.float64(0.5410005146857456)"
            ]
          },
          "metadata": {},
          "execution_count": 22
        }
      ]
    },
    {
      "cell_type": "code",
      "source": [],
      "metadata": {
        "id": "EjqvWBZugylZ"
      },
      "execution_count": null,
      "outputs": []
    }
  ]
}